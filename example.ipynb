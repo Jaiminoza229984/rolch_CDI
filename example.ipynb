{
 "cells": [
  {
   "cell_type": "code",
   "execution_count": 1,
   "id": "e37ae52f-fa91-4128-9580-d12c61984cc7",
   "metadata": {},
   "outputs": [
    {
     "name": "stdout",
     "output_type": "stream",
     "text": [
      "0.1.9\n"
     ]
    }
   ],
   "source": [
    "import rolch\n",
    "import numpy as np\n",
    "from sklearn.datasets import load_diabetes, make_regression\n",
    "import matplotlib.pyplot as plt\n",
    "from pprint import pprint\n",
    "\n",
    "np.set_printoptions(precision=3, suppress=True)\n",
    "print(rolch.__version__)"
   ]
  },
  {
   "cell_type": "markdown",
   "id": "44c6cf80-9bad-4c52-bbb8-f7d0d0dcccb0",
   "metadata": {},
   "source": [
    "# Batch Estimation"
   ]
  },
  {
   "cell_type": "code",
   "execution_count": 2,
   "id": "1fd422ca-82aa-44d2-8287-5bfcae8c6d4e",
   "metadata": {},
   "outputs": [],
   "source": [
    "## Diabetes data set\n",
    "## Add intercept (will not be regularized)\n",
    "\n",
    "X, y = load_diabetes(return_X_y=True)"
   ]
  },
  {
   "cell_type": "markdown",
   "id": "493a21e3-f9a1-43b9-9104-b56e6e37532f",
   "metadata": {},
   "source": [
    "## OLS"
   ]
  },
  {
   "cell_type": "code",
   "execution_count": 3,
   "id": "558ca51e-a311-4d4b-87b5-17986b364ed3",
   "metadata": {},
   "outputs": [
    {
     "name": "stdout",
     "output_type": "stream",
     "text": [
      "OLS Coefficients \n",
      "\n",
      "{0: array([152.004,  -0.621, -12.37 ,  23.288,  15.373, -28.417,  15.796,\n",
      "        -0.309,   6.318,  33.086,   2.393]),\n",
      " 1: array([ 3.986, -0.031, -0.02 ,  0.067,  0.045,  0.048, -0.084,  0.007,\n",
      "        0.043, -0.024,  0.036])}\n"
     ]
    }
   ],
   "source": [
    "equation = {\n",
    "    0: \"all\",\n",
    "    1: \"all\",\n",
    "}\n",
    "\n",
    "online_gamlss_ols = rolch.OnlineGamlss(\n",
    "    distribution=rolch.DistributionNormal(),\n",
    "    method=\"ols\",\n",
    "    equation=equation,\n",
    "    fit_intercept=True,\n",
    ")\n",
    "\n",
    "online_gamlss_ols.fit(X, y)\n",
    "\n",
    "print(\"OLS Coefficients \\n\")\n",
    "pprint(online_gamlss_ols.betas)"
   ]
  },
  {
   "cell_type": "markdown",
   "id": "3689ff07-ff5e-4681-bfa6-dc9d8b447066",
   "metadata": {},
   "source": [
    "## LASSO"
   ]
  },
  {
   "cell_type": "code",
   "execution_count": 4,
   "id": "2d8d950d-3749-4c86-8f05-8082b9e25ae4",
   "metadata": {},
   "outputs": [
    {
     "name": "stdout",
     "output_type": "stream",
     "text": [
      "LASSO Coefficients \n",
      "\n",
      "[[151.968   3.973  25.   ]\n",
      " [ -0.     -0.     -0.   ]\n",
      " [ -9.826  -0.      0.   ]\n",
      " [ 24.23    0.044  -0.   ]\n",
      " [ 13.78    0.      0.   ]\n",
      " [ -4.883  -0.     -0.   ]\n",
      " [ -0.      0.      0.   ]\n",
      " [-10.79   -0.026   0.   ]\n",
      " [  0.      0.      0.   ]\n",
      " [ 24.842   0.     -0.   ]\n",
      " [  2.194   0.      0.   ]]\n"
     ]
    }
   ],
   "source": [
    "dist = rolch.DistributionT()\n",
    "equation = {\n",
    "    0: \"all\",  # Can also use: \"intercept\" or pass a numpy array with indices / boolean\n",
    "    1: \"all\",\n",
    "    2: \"all\",\n",
    "}\n",
    "\n",
    "online_gamlss_lasso = rolch.OnlineGamlss(\n",
    "    distribution=dist,\n",
    "    method=\"lasso\",\n",
    "    equation=equation,\n",
    "    fit_intercept=True,\n",
    "    estimation_kwargs={\n",
    "        \"ic\": {i: \"bic\" for i in range(dist.n_params)},  # Change the IC if you like\n",
    "        \"lambda_eps\": {\n",
    "            i: 1e-4 for i in range(dist.n_params)\n",
    "        },  # Change the design of the lambda grid\n",
    "    },\n",
    "    rss_tol_inner=np.inf,\n",
    ")\n",
    "online_gamlss_lasso.fit(X, y)\n",
    "\n",
    "print(\"LASSO Coefficients \\n\")\n",
    "print(np.vstack([*online_gamlss_lasso.betas.values()]).T)"
   ]
  },
  {
   "cell_type": "markdown",
   "id": "28c1c7a2-0464-44cd-ac9e-6d8276a0413c",
   "metadata": {},
   "source": [
    "# Incremental Fit"
   ]
  },
  {
   "cell_type": "code",
   "execution_count": 5,
   "id": "7e8a74f8-f170-440e-a27f-fa3a14c0b924",
   "metadata": {},
   "outputs": [
    {
     "name": "stdout",
     "output_type": "stream",
     "text": [
      "Coefficients for the first N-1 observations \n",
      "\n",
      "[[152.023   3.917   2.737]\n",
      " [ -0.     -0.      0.   ]\n",
      " [-10.774  -0.      0.   ]\n",
      " [ 24.566   0.035  -0.277]\n",
      " [ 14.204   0.     -0.   ]\n",
      " [ -5.537   0.      0.   ]\n",
      " [ -0.     -0.      0.   ]\n",
      " [-10.837  -0.      0.   ]\n",
      " [  0.      0.     -0.   ]\n",
      " [ 25.509   0.     -0.   ]\n",
      " [  1.748   0.     -0.143]]\n"
     ]
    }
   ],
   "source": [
    "# Fit for all until the last observation\n",
    "online_gamlss_lasso = rolch.OnlineGamlss(\n",
    "    distribution=rolch.DistributionT(),\n",
    "    method=\"lasso\",\n",
    "    equation=equation,\n",
    "    estimation_kwargs={\"ic\": {i: \"bic\" for i in range(dist.n_params)}},\n",
    ")\n",
    "online_gamlss_lasso.fit(X=X[:-1, :], y=y[:-1])\n",
    "\n",
    "print(\"Coefficients for the first N-1 observations \\n\")\n",
    "print(np.vstack([*online_gamlss_lasso.betas.values()]).T)"
   ]
  },
  {
   "cell_type": "code",
   "execution_count": 6,
   "id": "3a3740ca-2c78-427a-b1d1-b4e2a5abcdd7",
   "metadata": {},
   "outputs": [
    {
     "name": "stdout",
     "output_type": "stream",
     "text": [
      "\n",
      "Coefficients after update call \n",
      "\n",
      "[[152.144   3.933   3.475]\n",
      " [ -0.71   -0.045   0.511]\n",
      " [-12.52   -0.098   0.618]\n",
      " [ 24.582   0.037  -0.223]\n",
      " [ 15.34    0.066  -0.232]\n",
      " [-33.312  -0.407   2.879]\n",
      " [ 19.224   0.384  -2.365]\n",
      " [  2.271  -0.004  -0.51 ]\n",
      " [  7.308  -0.089   0.267]\n",
      " [ 35.061   0.189  -1.479]\n",
      " [  2.397   0.044  -0.235]]\n"
     ]
    }
   ],
   "source": [
    "online_gamlss_lasso.update(X[[-1], :], y[[-1]])\n",
    "\n",
    "print(\"\\nCoefficients after update call \\n\")\n",
    "print(np.vstack([*online_gamlss_lasso.betas.values()]).T)"
   ]
  }
 ],
 "metadata": {
  "kernelspec": {
   "display_name": "rolch310",
   "language": "python",
   "name": "python3"
  },
  "language_info": {
   "codemirror_mode": {
    "name": "ipython",
    "version": 3
   },
   "file_extension": ".py",
   "mimetype": "text/x-python",
   "name": "python",
   "nbconvert_exporter": "python",
   "pygments_lexer": "ipython3",
   "version": "3.10.14"
  }
 },
 "nbformat": 4,
 "nbformat_minor": 5
}
