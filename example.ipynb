{
 "cells": [
  {
   "cell_type": "code",
   "execution_count": 1,
   "id": "e37ae52f-fa91-4128-9580-d12c61984cc7",
   "metadata": {},
   "outputs": [],
   "source": [
    "import rolch\n",
    "import numpy as np\n",
    "from sklearn.datasets import load_diabetes\n",
    "\n",
    "np.set_printoptions(precision=3, suppress=True)"
   ]
  },
  {
   "cell_type": "markdown",
   "id": "44c6cf80-9bad-4c52-bbb8-f7d0d0dcccb0",
   "metadata": {},
   "source": [
    "# Batch Estimation"
   ]
  },
  {
   "cell_type": "code",
   "execution_count": 2,
   "id": "1fd422ca-82aa-44d2-8287-5bfcae8c6d4e",
   "metadata": {},
   "outputs": [],
   "source": [
    "## Diabetes data set\n",
    "## Add intercept (will not be regularized)\n",
    "\n",
    "X, y = load_diabetes(return_X_y=True)\n",
    "X = np.hstack((np.ones((X.shape[0], 1)), X))"
   ]
  },
  {
   "cell_type": "markdown",
   "id": "493a21e3-f9a1-43b9-9104-b56e6e37532f",
   "metadata": {},
   "source": [
    "## OLS"
   ]
  },
  {
   "cell_type": "code",
   "execution_count": 3,
   "id": "558ca51e-a311-4d4b-87b5-17986b364ed3",
   "metadata": {},
   "outputs": [
    {
     "name": "stdout",
     "output_type": "stream",
     "text": [
      "OLS Coefficients \n",
      "\n",
      "[[150.933   3.912  10.817]\n",
      " [  0.165  -0.065   0.734]\n",
      " [-11.363  -0.111   2.061]\n",
      " [ 20.206   0.032  -0.178]\n",
      " [ 17.183   0.127   0.811]\n",
      " [-29.301  -0.836 -19.698]\n",
      " [ 17.043   0.796  16.558]\n",
      " [  0.224   0.083   8.152]\n",
      " [  5.192  -0.18    1.116]\n",
      " [ 34.289   0.412   9.576]\n",
      " [  2.442   0.06   -0.63 ]]\n"
     ]
    }
   ],
   "source": [
    "online_gamlss_ols = rolch.OnlineGamlss(\n",
    "    distribution=rolch.DistributionT(), \n",
    "    method=\"ols\"\n",
    ")\n",
    "\n",
    "online_gamlss_ols.fit(y, X, X, X)\n",
    "\n",
    "print(\"OLS Coefficients \\n\")\n",
    "print(np.vstack(online_gamlss_ols.betas).T)"
   ]
  },
  {
   "cell_type": "markdown",
   "id": "3689ff07-ff5e-4681-bfa6-dc9d8b447066",
   "metadata": {},
   "source": [
    "## LASSO"
   ]
  },
  {
   "cell_type": "code",
   "execution_count": 4,
   "id": "2d8d950d-3749-4c86-8f05-8082b9e25ae4",
   "metadata": {},
   "outputs": [
    {
     "name": "stdout",
     "output_type": "stream",
     "text": [
      "LASSO Coefficients \n",
      "\n",
      "[[151.844   3.943  23.519]\n",
      " [  0.26   -0.059   0.001]\n",
      " [-11.973  -0.105   0.006]\n",
      " [ 22.29    0.052  -0.   ]\n",
      " [ 16.202   0.108  -0.001]\n",
      " [-10.965  -0.002   0.021]\n",
      " [  0.012   0.053   3.693]\n",
      " [ -6.236  -0.197  -0.006]\n",
      " [  6.183  -0.131   0.003]\n",
      " [ 27.042   0.049  -4.208]\n",
      " [  2.637   0.05    1.095]]\n"
     ]
    }
   ],
   "source": [
    "online_gamlss_lasso = rolch.OnlineGamlss(\n",
    "    distribution=rolch.DistributionT(), \n",
    "    method=\"lasso\", \n",
    "    estimation_kwargs={\"ic\" : \"bic\"}\n",
    ")\n",
    "\n",
    "online_gamlss_lasso.fit(y, X, X, X)\n",
    "\n",
    "print(\"LASSO Coefficients \\n\")\n",
    "print(np.vstack(online_gamlss_lasso.betas).T)"
   ]
  },
  {
   "cell_type": "markdown",
   "id": "28c1c7a2-0464-44cd-ac9e-6d8276a0413c",
   "metadata": {},
   "source": [
    "# Incremental Fit"
   ]
  },
  {
   "cell_type": "code",
   "execution_count": 16,
   "id": "7e8a74f8-f170-440e-a27f-fa3a14c0b924",
   "metadata": {},
   "outputs": [
    {
     "name": "stdout",
     "output_type": "stream",
     "text": [
      "Coefficients for the first N-1 observations \n",
      "\n",
      "[[151.248   3.921  11.733]\n",
      " [  0.367  -0.069   1.019]\n",
      " [-11.322  -0.112   1.398]\n",
      " [ 21.003   0.023  -0.738]\n",
      " [ 17.332   0.124   1.307]\n",
      " [-34.499  -0.712 -16.854]\n",
      " [ 20.727   0.692  13.33 ]\n",
      " [  2.526   0.045   7.264]\n",
      " [  6.299  -0.175   2.158]\n",
      " [ 35.216   0.367   9.054]\n",
      " [  2.456   0.058  -0.921]]\n",
      "\n",
      "RSS for the first N-1 observations \n",
      "\n",
      "{0: 1248326.2020248915, 1: 168.7563369721031, 2: 28448516.72403799}\n"
     ]
    }
   ],
   "source": [
    "online_gamlss_lasso = rolch.OnlineGamlss(\n",
    "    distribution=rolch.DistributionT(), \n",
    "    method=\"ols\", \n",
    "    estimation_kwargs={\"ic\" : \"bic\"}, \n",
    "    # aic, bic, hqc, max (max == always select largest model --> OLS solution)\n",
    ")\n",
    "\n",
    "online_gamlss_lasso.model_selection_on_weighted_rss = False\n",
    "\n",
    "online_gamlss_lasso.fit(\n",
    "    y[:-1], \n",
    "    X[:-1, :], \n",
    "    X[:-1, :], \n",
    "    X[:-1, :]\n",
    ")\n",
    "\n",
    "print(\"Coefficients for the first N-1 observations \\n\")\n",
    "print(np.vstack(online_gamlss_lasso.betas).T)\n",
    "\n",
    "print(\"\\nRSS for the first N-1 observations \\n\")\n",
    "print(online_gamlss_lasso.rss)"
   ]
  },
  {
   "cell_type": "code",
   "execution_count": 17,
   "id": "3a3740ca-2c78-427a-b1d1-b4e2a5abcdd7",
   "metadata": {},
   "outputs": [
    {
     "name": "stdout",
     "output_type": "stream",
     "text": [
      "\n",
      "Coefficients after update call \n",
      "\n",
      "[[151.251   3.92   11.733]\n",
      " [  0.316  -0.067   1.019]\n",
      " [-11.312  -0.112   1.398]\n",
      " [ 20.97    0.024  -0.738]\n",
      " [ 17.273   0.126   1.307]\n",
      " [-34.722  -0.699 -16.854]\n",
      " [ 20.898   0.684  13.33 ]\n",
      " [  2.795   0.03    7.264]\n",
      " [  6.477  -0.184   2.158]\n",
      " [ 35.316   0.362   9.054]\n",
      " [  2.493   0.057  -0.921]]\n",
      "\n",
      "RSS after update call  \n",
      "\n",
      "{0: array([1248344.208]), 1: array([168.993]), 2: array([28448590.018])}\n"
     ]
    }
   ],
   "source": [
    "online_gamlss_lasso.update(\n",
    "    y[[-1]], \n",
    "    X[[-1], :], \n",
    "    X[[-1], :], \n",
    "    X[[-1], :]\n",
    ")\n",
    "\n",
    "print(\"\\nCoefficients after update call \\n\")\n",
    "print(np.vstack(online_gamlss_lasso.betas).T)\n",
    "\n",
    "print(\"\\nRSS after update call  \\n\")\n",
    "print(online_gamlss_lasso.rss)"
   ]
  },
  {
   "cell_type": "code",
   "execution_count": null,
   "id": "7a6c7056-1c2c-4d7c-b776-bd60d0a2614a",
   "metadata": {},
   "outputs": [],
   "source": []
  },
  {
   "cell_type": "code",
   "execution_count": 24,
   "id": "46bf4ca4-6564-40ed-94e1-ac964c33f9b0",
   "metadata": {},
   "outputs": [],
   "source": [
    "sample = np.random.normal(3, 10, 100)"
   ]
  },
  {
   "cell_type": "code",
   "execution_count": 25,
   "id": "970324eb-df33-42cf-a4d6-7224f6013baa",
   "metadata": {},
   "outputs": [
    {
     "data": {
      "text/plain": [
       "10.007207826055359"
      ]
     },
     "execution_count": 25,
     "metadata": {},
     "output_type": "execute_result"
    }
   ],
   "source": [
    "np.std(sample)"
   ]
  },
  {
   "cell_type": "code",
   "execution_count": 26,
   "id": "838cf28e-f04a-4230-b52a-f06efaa1c40d",
   "metadata": {},
   "outputs": [
    {
     "data": {
      "text/plain": [
       "5.003603913027679"
      ]
     },
     "execution_count": 26,
     "metadata": {},
     "output_type": "execute_result"
    }
   ],
   "source": [
    "np.std(sample / 2)"
   ]
  },
  {
   "cell_type": "code",
   "execution_count": null,
   "id": "8958fb09-7a3f-4c08-8167-43c13eef4cad",
   "metadata": {},
   "outputs": [],
   "source": []
  }
 ],
 "metadata": {
  "kernelspec": {
   "display_name": "Python (Dev)",
   "language": "python",
   "name": "myenv"
  },
  "language_info": {
   "codemirror_mode": {
    "name": "ipython",
    "version": 3
   },
   "file_extension": ".py",
   "mimetype": "text/x-python",
   "name": "python",
   "nbconvert_exporter": "python",
   "pygments_lexer": "ipython3",
   "version": "3.10.14"
  }
 },
 "nbformat": 4,
 "nbformat_minor": 5
}
